{
 "metadata": {
  "name": ""
 },
 "nbformat": 3,
 "nbformat_minor": 0,
 "worksheets": [
  {
   "cells": [
    {
     "cell_type": "code",
     "collapsed": false,
     "input": [
      "import csv"
     ],
     "language": "python",
     "metadata": {},
     "outputs": [],
     "prompt_number": 2
    },
    {
     "cell_type": "code",
     "collapsed": false,
     "input": [
      "datafiles=['/users/amyskerry/dropbox/bsoo_study3.csv','/users/amyskerry/dropbox/bsoo_study4.csv']\n",
      "studyids=['s3', 's4']\n",
      "data={}\n",
      "group=[]\n",
      "groupage=[]\n",
      "groupaccpf=[]\n",
      "groupexhau=[]\n",
      "for datatypenum, datafile in enumerate(datafiles):\n",
      "    age=[]\n",
      "    accpf=[]\n",
      "    exhau=[]\n",
      "    with open(datafile, 'rU') as csvfile:\n",
      "        reader=csv.reader(csvfile)\n",
      "        for rown, row in enumerate(reader):\n",
      "            if rown==0:\n",
      "                names=row\n",
      "                print names\n",
      "            else:\n",
      "                age.append(row[1])\n",
      "                accpf.append(row[5])\n",
      "                exhau.append(row[6])\n",
      "    data[studyids[datatypenum]]=[age, accpf, exhau]\n",
      "    group.append([datatypenum for subj in age])\n",
      "    groupage.append(age)\n",
      "    groupaccpf.append(accpf)\n",
      "    groupexhau.append(exhau)\n",
      "combinedgroup=group[0]\n",
      "combinedage=groupage[0]\n",
      "combinedaccpf=groupaccpf[0]\n",
      "combinedexhau=groupexhau[0]\n",
      "combinedgroup.extend(group[1])\n",
      "combinedage.extend(groupage[1])\n",
      "combinedaccpf.extend(groupaccpf[1])\n",
      "combinedexhau.extend(groupexhau[1])\n",
      "data['bothstudies_cont']=[combinedage, combinedaccpf, combinedexhau]\n",
      "data['bothstudies_cat']=[combinedgroup, combinedaccpf, combinedexhau]"
     ],
     "language": "python",
     "metadata": {},
     "outputs": [
      {
       "output_type": "stream",
       "stream": "stdout",
       "text": [
        "['Subject #', 'Age (days)', 'Accuracy 1', 'Accuracy 2', 'Total Accuracy', 'Pass/Fail Accuracy', 'Exhaustiveness']\n",
        "['Subject #', 'Age (days)', 'Accuracy 1', 'Accuracy 2', 'Total Accuracy', 'Pass/Fail Accuracy', 'Exhaustiveness']\n",
        "['Subject #', 'Age', 'Accuracy 1', 'Accuracy 2', 'Exhaustiveness', 'Total Accuracy', 'Passer or Failer?']\n"
       ]
      }
     ],
     "prompt_number": 4
    },
    {
     "cell_type": "code",
     "collapsed": false,
     "input": [
      "(',').join([str(x) for x in combinedexhau])"
     ],
     "language": "python",
     "metadata": {},
     "outputs": [
      {
       "metadata": {},
       "output_type": "pyout",
       "prompt_number": 32,
       "text": [
        "'0,0,1,1,1,0,0,0,1,0,0,0,1,0,1,1,1,1,1,1,0,0,0,0,0,0,0,0,0,0,0,1,0,0,1,1,0,1,1,0,0,0,0,0,0,1,0,1'"
       ]
      }
     ],
     "prompt_number": 32
    },
    {
     "cell_type": "code",
     "collapsed": false,
     "input": [
      "#3s accuracy\n",
      "X=data['s3'][0]\n",
      "Y=data['s3'][1]\n",
      "\n",
      "#3s exhau\n",
      "X=data['s3'][0]\n",
      "Y=data['s3'][2]"
     ],
     "language": "python",
     "metadata": {},
     "outputs": []
    },
    {
     "cell_type": "code",
     "collapsed": false,
     "input": [
      "datafiles=['/users/amyskerry/dropbox/bsoo_studies234.csv']\n",
      "for datatypenum, datafile in enumerate(datafiles):\n",
      "    accage=[]\n",
      "    accpf=[]\n",
      "    exage=[]\n",
      "    exhau=[]\n",
      "    with open(datafile, 'rU') as csvfile:\n",
      "        reader=csv.reader(csvfile)\n",
      "        for rown, row in enumerate(reader):\n",
      "            if rown==0:\n",
      "                names=row\n",
      "                print names\n",
      "            else:\n",
      "                try:\n",
      "                    g=int(row[6])\n",
      "                    accpf.append(row[6])\n",
      "                    accage.append(row[1])\n",
      "                except:\n",
      "                    string=[str(rown)+ ' has nan for acc']\n",
      "                    print string\n",
      "                try:\n",
      "                    g=int(row[4])\n",
      "                    exhau.append(row[4])\n",
      "                    exage.append(row[1])\n",
      "                except:\n",
      "                    string=[str(rown)+ ' has nan for exhau']\n",
      "                    print string\n",
      "                    "
     ],
     "language": "python",
     "metadata": {},
     "outputs": [
      {
       "output_type": "stream",
       "stream": "stdout",
       "text": [
        "['Subject #', 'Age', 'Accuracy 1', 'Accuracy 2', 'Exhaustiveness', 'Total Accuracy', 'Passer or Failer?']\n",
        "['1 has nan for acc']\n",
        "['2 has nan for acc']\n",
        "['2 has nan for exhau']\n",
        "['3 has nan for acc']\n",
        "['3 has nan for exhau']\n",
        "['4 has nan for acc']\n",
        "['4 has nan for exhau']\n",
        "['5 has nan for acc']\n",
        "['7 has nan for acc']\n",
        "['9 has nan for acc']\n",
        "['10 has nan for acc']\n",
        "['11 has nan for acc']\n",
        "['12 has nan for acc']\n",
        "['12 has nan for exhau']\n",
        "['14 has nan for acc']\n",
        "['15 has nan for acc']\n",
        "['15 has nan for exhau']\n",
        "['16 has nan for acc']\n",
        "['20 has nan for acc']\n",
        "['21 has nan for acc']\n",
        "['23 has nan for acc']\n",
        "['25 has nan for acc']\n",
        "['27 has nan for acc']\n",
        "['29 has nan for acc']\n",
        "['29 has nan for exhau']\n",
        "['31 has nan for acc']\n",
        "['34 has nan for acc']\n",
        "['36 has nan for acc']\n",
        "['36 has nan for exhau']\n",
        "['38 has nan for exhau']\n",
        "['43 has nan for acc']\n",
        "['45 has nan for acc']\n"
       ]
      }
     ],
     "prompt_number": 13
    },
    {
     "cell_type": "code",
     "collapsed": false,
     "input": [
      "accage=[int(a) for a in accage]\n",
      "exage=[int(a) for a in exage]\n",
      "accpf=[int(a) for a in accpf]\n",
      "exhau=[int(a) for a in exhau]"
     ],
     "language": "python",
     "metadata": {},
     "outputs": [],
     "prompt_number": 15
    },
    {
     "cell_type": "code",
     "collapsed": false,
     "input": [
      "exhau"
     ],
     "language": "python",
     "metadata": {},
     "outputs": [
      {
       "metadata": {},
       "output_type": "pyout",
       "prompt_number": 19,
       "text": [
        "[0,\n",
        " 0,\n",
        " 0,\n",
        " 0,\n",
        " 1,\n",
        " 1,\n",
        " 0,\n",
        " 1,\n",
        " 0,\n",
        " 0,\n",
        " 0,\n",
        " 0,\n",
        " 1,\n",
        " 0,\n",
        " 1,\n",
        " 0,\n",
        " 0,\n",
        " 0,\n",
        " 0,\n",
        " 1,\n",
        " 1,\n",
        " 0,\n",
        " 0,\n",
        " 1,\n",
        " 0,\n",
        " 1,\n",
        " 0,\n",
        " 1,\n",
        " 1,\n",
        " 0,\n",
        " 0,\n",
        " 1,\n",
        " 0,\n",
        " 1,\n",
        " 0,\n",
        " 0,\n",
        " 1,\n",
        " 0,\n",
        " 1,\n",
        " 0,\n",
        " 1,\n",
        " 0,\n",
        " 1,\n",
        " 1,\n",
        " 0,\n",
        " 1,\n",
        " 0,\n",
        " 0,\n",
        " 1,\n",
        " 1,\n",
        " 1,\n",
        " 0,\n",
        " 1,\n",
        " 0,\n",
        " 0,\n",
        " 0,\n",
        " 1,\n",
        " 1,\n",
        " 0,\n",
        " 0,\n",
        " 1,\n",
        " 0,\n",
        " 0,\n",
        " 0,\n",
        " 0,\n",
        " 0,\n",
        " 1,\n",
        " 0,\n",
        " 0,\n",
        " 1,\n",
        " 0,\n",
        " 1,\n",
        " 0,\n",
        " 0,\n",
        " 1,\n",
        " 0,\n",
        " 0,\n",
        " 0,\n",
        " 1,\n",
        " 0,\n",
        " 0,\n",
        " 0,\n",
        " 1,\n",
        " 0,\n",
        " 0,\n",
        " 0]"
       ]
      }
     ],
     "prompt_number": 19
    },
    {
     "cell_type": "code",
     "collapsed": false,
     "input": [],
     "language": "python",
     "metadata": {},
     "outputs": []
    }
   ],
   "metadata": {}
  }
 ]
}