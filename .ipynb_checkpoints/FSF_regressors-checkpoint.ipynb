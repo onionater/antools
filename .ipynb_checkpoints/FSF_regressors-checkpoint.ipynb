{
 "metadata": {
  "name": ""
 },
 "nbformat": 3,
 "nbformat_minor": 0,
 "worksheets": [
  {
   "cells": [
    {
     "cell_type": "raw",
     "metadata": {},
     "source": [
      "import sys\n",
      "sys.path.append('/users/amyskerry/dropbox/antools/fmri')\n",
      "import plot_roi_betas as prb\n",
      "\n",
      "**nvm don't do this, just go to that file and run it to get roi betas"
     ]
    },
    {
     "cell_type": "code",
     "collapsed": false,
     "input": [
      "pylab inline"
     ],
     "language": "python",
     "metadata": {},
     "outputs": [
      {
       "output_type": "stream",
       "stream": "stdout",
       "text": [
        "Populating the interactive namespace from numpy and matplotlib\n"
       ]
      }
     ],
     "prompt_number": 1
    },
    {
     "cell_type": "code",
     "collapsed": false,
     "input": [
      "import scipy.io\n",
      "import numpy as p\n",
      "import matplotlib.pyplot as plt\n",
      "import statsmodels.stats.outliers_influence\n",
      "from IPython.display import display, Image\n",
      "import functionsfromtheinternets as ffti\n",
      "import seaborn as sns\n"
     ],
     "language": "python",
     "metadata": {},
     "outputs": [],
     "prompt_number": 2
    },
    {
     "cell_type": "code",
     "collapsed": false,
     "input": [
      "def plotcorrmatrix(title, axis, datamatrix,figuresize=[8,8],cmin=-1,cmax=1, cmapspec='RdYlBu', onecorner=0):\n",
      "    fig=plt.figure(figsize=figuresize)   \n",
      "    ax=plt.subplot()\n",
      "    corrmatrix=np.corrcoef(datamatrix)\n",
      "    if onecorner:\n",
      "        tri=np.triu(corrmatrix)\n",
      "        tri[tri==0]=np.nan\n",
      "        pltmatrix=tri\n",
      "    else:\n",
      "        pltmatrix=corrmatrix\n",
      "    im=plt.pcolor(pltmatrix, vmin=cmin, vmax=cmax, cmap=cmapspec) #symmetrical by necessity\n",
      "    plt.colorbar(im)\n",
      "    plt.xticks(map(lambda x:x+.5, range(len(axis))),axis, rotation='vertical')\n",
      "    plt.yticks(map(lambda x:x+.5, range(len(axis))),axis)\n",
      "    ax.set_xlabel(title)"
     ],
     "language": "python",
     "metadata": {},
     "outputs": [],
     "prompt_number": 3
    },
    {
     "cell_type": "code",
     "collapsed": false,
     "input": [
      "myfile='/Users/amyskerry/Dropbox/fsfcsvs/raw_regressors.mat'\n",
      "mat = scipy.io.loadmat(myfile)"
     ],
     "language": "python",
     "metadata": {},
     "outputs": [],
     "prompt_number": 4
    },
    {
     "cell_type": "code",
     "collapsed": false,
     "input": [
      "display(Image(filename='/users/amyskerry/dropbox/fsfcsvs/designmatrix.png'))"
     ],
     "language": "python",
     "metadata": {},
     "outputs": [
      {
       "metadata": {},
       "output_type": "display_data",
       "png": "[encoded data removed]",
       "text": [
        "<IPython.core.display.Image at 0x10787eb50>"
       ]
      }
     ],
     "prompt_number": 5
    },
    {
     "cell_type": "raw",
     "metadata": {},
     "source": [
      "reliability=mat['reliabilityRvals'][0][0]\n",
      "condlist=[name[0:2] for name in mat['videonames']]\n",
      "colorscheme=sns.color_palette('husl',8)\n",
      "zipped=zip(condlist,reliability)\n",
      "zipped.sort()\n",
      "results=([a for (a,b) in zipped],[b for (a,b) in zipped])\n",
      "condlist=results[0]\n",
      "reliability=results[1]\n",
      "conds=[]\n",
      "colors=[]\n",
      "for c in condlist:\n",
      "    if c not in conds:\n",
      "        conds.append(c)\n",
      "    index=len(conds)\n",
      "    colors.append(colorscheme[index-1])\n",
      "f,ax=plt.subplots(1,1,figsize=[12,6])\n",
      "plt.bar(range(len(reliability)),reliability,color=colors)\n",
      "ax.set_xlim([0,257])\n",
      "xticks=range(16,256,32)\n",
      "condlabels=[condlist[x] for x in xticks]\n",
      "ax=plt.xticks(range(16,256,32),condlabels)\n"
     ]
    },
    {
     "cell_type": "code",
     "collapsed": false,
     "input": [
      "reliability=mat['reliabilityRvals'][0][0]\n",
      "condlist=[name[0:2] for name in mat['videonames']]\n",
      "videolist=[name[-2:] for name in mat['videonames']]\n",
      "#colorscheme=sns.color_palette('husl',32)\n",
      "colorscheme=sns.color_palette('husl',8)\n",
      "#zipped=zip(videolist,reliability)\n",
      "zipped=zip(condlist,reliability)\n",
      "zipped.sort()\n",
      "results=([a for (a,b) in zipped],[b for (a,b) in zipped])\n",
      "#videolist=results[0]\n",
      "condlist=results[0]\n",
      "reliability=results[1]\n",
      "vids=[]\n",
      "colors=[]\n",
      "#for v in videolist:\n",
      "for v in condlist:\n",
      "    if v not in vids:\n",
      "        vids.append(v)\n",
      "    index=len(vids)\n",
      "    colors.append(colorscheme[index-1])\n",
      "f,ax=plt.subplots(1,1,figsize=[12,6])\n",
      "plt.bar(range(len(reliability)),reliability,color=colors)\n",
      "ax.set_xlim([0,257])\n",
      "xticks=range(16,256,32)\n",
      "labels=[videolist[x] for x in xticks]\n",
      "ax=plt.xticks(range(16,256,32),labels)"
     ],
     "language": "python",
     "metadata": {},
     "outputs": [
      {
       "metadata": {},
       "output_type": "display_data",
       "png": "[encoded data removed]",
       "text": [
        "<matplotlib.figure.Figure at 0x108433d50>"
       ]
      }
     ],
     "prompt_number": 9
    },
    {
     "cell_type": "code",
     "collapsed": false,
     "input": [
      "binaries=mat['binary_condensed']\n",
      "videolist=[name[-2:] for name in mat['videonames']]\n",
      "condlist=[name[0:2] for name in mat['videonames']]\n",
      "bigtimecourses=[]\n",
      "conds=list(set(condlist))\n",
      "for c in conds:\n",
      "    binlist=[list(binary) for binaryn, binary in enumerate(binaries) if condlist[binaryn]==c]\n",
      "    vidlist=[int(videolist[binaryn]) for binaryn, binary in enumerate(binaries) if condlist[binaryn]==c]\n",
      "    zipped=zip(vidlist,binlist)\n",
      "    zipped.sort(key = lambda t: t[0])\n",
      "    result = ([ a for a,b in zipped ], [ b for a,b in zipped ])\n",
      "    vidlist=result[0]\n",
      "    binarylist=np.array(result[1]).flatten()\n",
      "    bigtimecourses.append(binarylist)\n"
     ],
     "language": "python",
     "metadata": {},
     "outputs": [],
     "prompt_number": 10
    },
    {
     "cell_type": "raw",
     "metadata": {},
     "source": [
      "for run in range(8):\n",
      "    filename='fig_run'+str(run)+'_raw.pdf'\n",
      "    im = PythonMagick.Image(filename)\n",
      "    display(Image(im))"
     ]
    },
    {
     "cell_type": "raw",
     "metadata": {},
     "source": [
      "find regressor correlations"
     ]
    },
    {
     "cell_type": "code",
     "collapsed": false,
     "input": [
      "corrmatrix=np.corrcoef(bigtimecourses)"
     ],
     "language": "python",
     "metadata": {},
     "outputs": [],
     "prompt_number": 11
    },
    {
     "cell_type": "raw",
     "metadata": {},
     "source": [
      "plot them"
     ]
    },
    {
     "cell_type": "code",
     "collapsed": false,
     "input": [
      "plotcorrmatrix('regressor collinearity', conds, bigtimecourses,figuresize=[5,4],cmin=-1,cmax=1, cmapspec='RdYlBu_r')"
     ],
     "language": "python",
     "metadata": {},
     "outputs": [
      {
       "metadata": {},
       "output_type": "display_data",
       "png": "[encoded data removed]",
       "text": [
        "<matplotlib.figure.Figure at 0x107f635d0>"
       ]
      }
     ],
     "prompt_number": 12
    },
    {
     "cell_type": "raw",
     "metadata": {},
     "source": [
      "are some conditions overrepresented compared to others?"
     ]
    },
    {
     "cell_type": "code",
     "collapsed": false,
     "input": [
      "frequency=[float(sum(x))/len(x) for x in bigtimecourses]\n",
      "string='proportion of timepoints: \\n'\n",
      "for cn,c in enumerate(conds):\n",
      "    string=string+'  '+c+ ': '+str(round(frequency[cn],3))+'\\n'\n",
      "print string"
     ],
     "language": "python",
     "metadata": {},
     "outputs": [
      {
       "output_type": "stream",
       "stream": "stdout",
       "text": [
        "proportion of timepoints: \n",
        "  me: 0.63\n",
        "  ob: 0.085\n",
        "  ne: 0.209\n",
        "  fa: 0.522\n",
        "  so: 0.582\n",
        "  sc: 0.102\n",
        "  ph: 0.624\n",
        "  po: 0.169\n",
        "\n"
       ]
      }
     ],
     "prompt_number": 17
    },
    {
     "cell_type": "raw",
     "metadata": {},
     "source": [
      "Variance Inflation Factor=measure of the increase of variance in the parameter estimates if that variable is added to linear regression... VIF > 5 considered highly collinear with the other regressors--> parameter estimates will have large standard errors"
     ]
    },
    {
     "cell_type": "code",
     "collapsed": false,
     "input": [
      "for inum, i in enumerate(conds):\n",
      "    print i+': ' + str(round(statsmodels.stats.outliers_influence.variance_inflation_factor(np.array(bigtimecourses).T, inum),3))"
     ],
     "language": "python",
     "metadata": {},
     "outputs": [
      {
       "output_type": "stream",
       "stream": "stdout",
       "text": [
        "me: 3.487\n",
        "ob: 1.111\n",
        "ne: 1.453\n",
        "fa: 2.881\n",
        "so: 2.869\n",
        "sc: 1.037\n",
        "ph: 3.457\n",
        "po: 1.364\n"
       ]
      }
     ],
     "prompt_number": 18
    },
    {
     "cell_type": "code",
     "collapsed": false,
     "input": [],
     "language": "python",
     "metadata": {},
     "outputs": [],
     "prompt_number": 18
    },
    {
     "cell_type": "code",
     "collapsed": false,
     "input": [],
     "language": "python",
     "metadata": {},
     "outputs": [],
     "prompt_number": 19
    },
    {
     "cell_type": "code",
     "collapsed": false,
     "input": [],
     "language": "python",
     "metadata": {},
     "outputs": []
    }
   ],
   "metadata": {}
  }
 ]
}